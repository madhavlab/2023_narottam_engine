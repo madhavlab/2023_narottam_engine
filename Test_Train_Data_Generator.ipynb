{
 "cells": [
  {
   "cell_type": "code",
   "execution_count": null,
   "metadata": {},
   "outputs": [],
   "source": [
    "import pandas as pd\n",
    "import matplotlib.pyplot as plt\n",
    "import json\n",
    "import librosa\n",
    "import numpy as np"
   ]
  },
  {
   "cell_type": "code",
   "execution_count": null,
   "metadata": {},
   "outputs": [],
   "source": [
    "def read_csv(path):\n",
    "    return pd.read_csv(path)"
   ]
  },
  {
   "cell_type": "code",
   "execution_count": null,
   "metadata": {},
   "outputs": [],
   "source": [
    "def split_times(arr,ratio):\n",
    "    arr = np.array(arr)\n",
    "    proportions = arr/arr.sum()\n",
    "    if not type(ratio)==float:\n",
    "        #for id in \n",
    "        proportions[np.where(np.array(ratio)==1)[0]]=1\n",
    "    test_times = arr*proportions*ratio\n",
    "    return test_times"
   ]
  },
  {
   "cell_type": "code",
   "execution_count": null,
   "metadata": {},
   "outputs": [],
   "source": [
    "def student_wise_distribution(df):\n",
    "    count=[]\n",
    "    dur=[]\n",
    "    filenames=[]\n",
    "    a = df['s_id'].unique()\n",
    "    for i in a:\n",
    "        count.append(df['s_id'].value_counts()[i])\n",
    "        l=df[df['s_id']==i]['duration']\n",
    "        dur.append(sum(l.to_list()))\n",
    "        f=df[df['s_id']==i]['s_file']\n",
    "        filenames.append(f.to_list())\n",
    "    return a,count,dur,filenames"
   ]
  },
  {
   "cell_type": "code",
   "execution_count": null,
   "metadata": {},
   "outputs": [],
   "source": [
    "def get_filenames_student_wise(df,s_id):\n",
    "        l=df[df['s_id']==s_id]['s_file']\n",
    "        return sort(l.to_list())"
   ]
  },
  {
   "cell_type": "code",
   "execution_count": null,
   "metadata": {},
   "outputs": [],
   "source": [
    "def get_all_filenames(df,ids):\n",
    "    lst=[]\n",
    "    for i in ids:\n",
    "        l=df[df['s_id']==i]['s_file']\n",
    "        lst.append(l.to_list())\n",
    "    return lst"
   ]
  },
  {
   "cell_type": "code",
   "execution_count": null,
   "metadata": {},
   "outputs": [],
   "source": [
    "def sort_data(ids,dur,count,times,f):\n",
    "    d,c,i,t,f = zip(*sorted(zip(dur,count,ids,times,f)))\n",
    "    d,c,i,t,f=d[::-1],c[::-1],i[::-1],t[::-1],f[::-1]\n",
    "    return d,c,t,i,f"
   ]
  },
  {
   "cell_type": "code",
   "execution_count": null,
   "metadata": {},
   "outputs": [],
   "source": [
    "def get_test_files_student_wise(f,df,t):\n",
    "    lst=[]\n",
    "    for i in range(len(f)):\n",
    "        s=0\n",
    "        l=[]\n",
    "        for j in range(len(f[i])):\n",
    "            d=float(df[df['s_file']==f[i][-(j+1)]]['duration'])\n",
    "            s+=d\n",
    "            l.append(f[i][-(j+1)])\n",
    "            if s>=t[i]:\n",
    "                break\n",
    "        lst.append(l)   \n",
    "    return lst"
   ]
  },
  {
   "cell_type": "code",
   "execution_count": null,
   "metadata": {},
   "outputs": [],
   "source": [
    "def ids_for_test(test_ratio,ids,dur,total_dur):\n",
    "    rem_dur=test_ratio*total_dur\n",
    "    dur,ids = zip(*sorted(zip(dur,ids)))\n",
    "    lst=[]\n",
    "    s=0\n",
    "    for i in range(len(dur)):\n",
    "        s+=dur[i]\n",
    "        lst.append(ids[i])\n",
    "        if s>=rem_dur:\n",
    "            break\n",
    "    return lst "
   ]
  },
  {
   "cell_type": "code",
   "execution_count": null,
   "metadata": {},
   "outputs": [],
   "source": [
    "def update_dataframe(df,lst):\n",
    "    for i in lst:\n",
    "        df = df[df.s_id != i]\n",
    "    return df"
   ]
  },
  {
   "cell_type": "code",
   "execution_count": null,
   "metadata": {},
   "outputs": [],
   "source": [
    "def save_train_data(df,t_id):\n",
    "    df = df.iloc[: , 2:]\n",
    "    df.to_csv(\"train_data_\"+str(t_id)+\".csv\",index=False)\n",
    "    print(\"Train Data Saved\")"
   ]
  },
  {
   "cell_type": "code",
   "execution_count": null,
   "metadata": {},
   "outputs": [],
   "source": [
    "def merge_list(arr):\n",
    "    new_arr=[]\n",
    "    for i in arr:\n",
    "        for j in i:\n",
    "            new_arr.append(j)\n",
    "    return new_arr"
   ]
  },
  {
   "cell_type": "code",
   "execution_count": null,
   "metadata": {},
   "outputs": [],
   "source": [
    "def save_test_data(df,arr,t_id,t):\n",
    "    lst=merge_list(arr)\n",
    "    ndf = pd.DataFrame()\n",
    "    for i in lst:\n",
    "        x=df.loc[df['s_file'] == i]\n",
    "        ndf = ndf.append(x, ignore_index = True)\n",
    "    ndf = df.iloc[: , 2:]\n",
    "    if t==\"\":\n",
    "        ndf.to_csv(\"test_data_\"+str(t_id)+\".csv\",index=False)\n",
    "    else:\n",
    "         ndf.to_csv(\"test_data_\"+str(t)+\"_\"+str(t_id)+\".csv\",index=False)\n",
    "    print(\"Test Data Saved\")    "
   ]
  },
  {
   "cell_type": "code",
   "execution_count": null,
   "metadata": {},
   "outputs": [],
   "source": [
    "metadata_path_t1=\"metadata_001_01-03-2023.csv\"\n",
    "metadata_path_t2=\"metadata_002_01-03-2023.csv\""
   ]
  },
  {
   "cell_type": "code",
   "execution_count": null,
   "metadata": {},
   "outputs": [],
   "source": [
    "df1=read_csv(metadata_path_t1)\n",
    "df2=read_csv(metadata_path_t2)\n",
    "\n",
    "\n",
    "a,a_count,a_dur,f1=student_wise_distribution(df1)\n",
    "b,b_count,b_dur,f2=student_wise_distribution(df2)\n",
    "total_dur1=sum(a_dur)\n",
    "total_dur2=sum(b_dur)\n",
    "\n",
    "test_ratio=0.15\n",
    "ids1=ids_for_test(test_ratio,a,a_dur,total_dur1)\n",
    "ids2=ids_for_test(test_ratio,b,b_dur,total_dur2)\n",
    "\n",
    "test1=get_all_filenames(df1,ids1)\n",
    "test2=get_all_filenames(df2,ids2)\n",
    "\n",
    "# print(test1)\n",
    "# print(test2)\n",
    "\n",
    "save_test_data(df1,test1,\"001\",\"\")\n",
    "save_test_data(df2,test2,\"002\",\"\")\n",
    "\n",
    "\n",
    "\n",
    "\n",
    "ndf1=update_dataframe(df1,ids1)\n",
    "ndf2=update_dataframe(df2,ids2)\n",
    "\n",
    "\n",
    "save_train_data(ndf1,\"001\")\n",
    "save_train_data(ndf2,\"002\")\n",
    "\n",
    "a,a_count,a_dur,f1=student_wise_distribution(ndf1)\n",
    "b,b_count,b_dur,f2=student_wise_distribution(ndf2)\n",
    "total_dur1=sum(a_dur)\n",
    "total_dur2=sum(b_dur)\n",
    "\n",
    "a_times=split_times(a_dur,ratio=0.2)\n",
    "b_times=split_times(b_dur,ratio=0.2)\n",
    "\n",
    "d1,c1,t1,i1,f1=sort_data(a,a_dur,a_count,a_times,f1)\n",
    "d2,c2,t2,i2,f2=sort_data(b,b_dur,b_count,b_times,f2)\n",
    "\n",
    "tf1=get_test_files_student_wise(f1,df1,t1)\n",
    "tf2=get_test_files_student_wise(f2,df2,t2)\n",
    "\n",
    "save_test_data(ndf1,tf1,\"001\",\"1\")\n",
    "save_test_data(ndf2,tf2,\"002\",\"1\")\n",
    "\n",
    "# print(tf1)\n",
    "# print(tf2)\n"
   ]
  },
  {
   "cell_type": "code",
   "execution_count": null,
   "metadata": {},
   "outputs": [],
   "source": []
  }
 ],
 "metadata": {
  "kernelspec": {
   "display_name": "Python 3",
   "language": "python",
   "name": "python3"
  },
  "language_info": {
   "codemirror_mode": {
    "name": "ipython",
    "version": 3
   },
   "file_extension": ".py",
   "mimetype": "text/x-python",
   "name": "python",
   "nbconvert_exporter": "python",
   "pygments_lexer": "ipython3",
   "version": "3.8.5"
  }
 },
 "nbformat": 4,
 "nbformat_minor": 4
}
